{
  "cells": [
    {
      "cell_type": "markdown",
      "metadata": {
        "colab_type": "text",
        "id": "lP6JLo1tGNBg"
      },
      "source": [
        "# Customer Churn prediction using ANN"
      ]
    },
    {
      "cell_type": "markdown",
      "metadata": {
        "colab_type": "text",
        "id": "gWZyYmS_UE_L"
      },
      "source": [
        "## 1 | Importing the libraries"
      ]
    },
    {
      "cell_type": "code",
      "execution_count": 143,
      "metadata": {
        "colab": {},
        "colab_type": "code",
        "id": "MxkJoQBkUIHC"
      },
      "outputs": [],
      "source": [
        "import numpy as np\n",
        "import pandas as pd\n",
        "import tensorflow as tf\n",
        "import seaborn as sns\n",
        "import matplotlib.pyplot as plt\n",
        "import missingno as msno"
      ]
    },
    {
      "cell_type": "markdown",
      "metadata": {
        "colab_type": "text",
        "id": "1E0Q3aoKUCRX"
      },
      "source": [
        "## 2 | Importing the Data"
      ]
    },
    {
      "cell_type": "code",
      "execution_count": 144,
      "metadata": {
        "colab": {},
        "colab_type": "code",
        "id": "MXUkhkMfU4wq"
      },
      "outputs": [
        {
          "data": {
            "text/html": [
              "<div>\n",
              "<style scoped>\n",
              "    .dataframe tbody tr th:only-of-type {\n",
              "        vertical-align: middle;\n",
              "    }\n",
              "\n",
              "    .dataframe tbody tr th {\n",
              "        vertical-align: top;\n",
              "    }\n",
              "\n",
              "    .dataframe thead th {\n",
              "        text-align: right;\n",
              "    }\n",
              "</style>\n",
              "<table border=\"1\" class=\"dataframe\">\n",
              "  <thead>\n",
              "    <tr style=\"text-align: right;\">\n",
              "      <th></th>\n",
              "      <th>RowNumber</th>\n",
              "      <th>CustomerId</th>\n",
              "      <th>Surname</th>\n",
              "      <th>CreditScore</th>\n",
              "      <th>Geography</th>\n",
              "      <th>Gender</th>\n",
              "      <th>Age</th>\n",
              "      <th>Tenure</th>\n",
              "      <th>Balance</th>\n",
              "      <th>NumOfProducts</th>\n",
              "      <th>HasCrCard</th>\n",
              "      <th>IsActiveMember</th>\n",
              "      <th>EstimatedSalary</th>\n",
              "      <th>Exited</th>\n",
              "    </tr>\n",
              "  </thead>\n",
              "  <tbody>\n",
              "    <tr>\n",
              "      <th>0</th>\n",
              "      <td>1</td>\n",
              "      <td>15634602</td>\n",
              "      <td>Hargrave</td>\n",
              "      <td>619</td>\n",
              "      <td>France</td>\n",
              "      <td>Female</td>\n",
              "      <td>42</td>\n",
              "      <td>2</td>\n",
              "      <td>0.00</td>\n",
              "      <td>1</td>\n",
              "      <td>1</td>\n",
              "      <td>1</td>\n",
              "      <td>101348.88</td>\n",
              "      <td>1</td>\n",
              "    </tr>\n",
              "    <tr>\n",
              "      <th>1</th>\n",
              "      <td>2</td>\n",
              "      <td>15647311</td>\n",
              "      <td>Hill</td>\n",
              "      <td>608</td>\n",
              "      <td>Spain</td>\n",
              "      <td>Female</td>\n",
              "      <td>41</td>\n",
              "      <td>1</td>\n",
              "      <td>83807.86</td>\n",
              "      <td>1</td>\n",
              "      <td>0</td>\n",
              "      <td>1</td>\n",
              "      <td>112542.58</td>\n",
              "      <td>0</td>\n",
              "    </tr>\n",
              "    <tr>\n",
              "      <th>2</th>\n",
              "      <td>3</td>\n",
              "      <td>15619304</td>\n",
              "      <td>Onio</td>\n",
              "      <td>502</td>\n",
              "      <td>France</td>\n",
              "      <td>Female</td>\n",
              "      <td>42</td>\n",
              "      <td>8</td>\n",
              "      <td>159660.80</td>\n",
              "      <td>3</td>\n",
              "      <td>1</td>\n",
              "      <td>0</td>\n",
              "      <td>113931.57</td>\n",
              "      <td>1</td>\n",
              "    </tr>\n",
              "    <tr>\n",
              "      <th>3</th>\n",
              "      <td>4</td>\n",
              "      <td>15701354</td>\n",
              "      <td>Boni</td>\n",
              "      <td>699</td>\n",
              "      <td>France</td>\n",
              "      <td>Female</td>\n",
              "      <td>39</td>\n",
              "      <td>1</td>\n",
              "      <td>0.00</td>\n",
              "      <td>2</td>\n",
              "      <td>0</td>\n",
              "      <td>0</td>\n",
              "      <td>93826.63</td>\n",
              "      <td>0</td>\n",
              "    </tr>\n",
              "    <tr>\n",
              "      <th>4</th>\n",
              "      <td>5</td>\n",
              "      <td>15737888</td>\n",
              "      <td>Mitchell</td>\n",
              "      <td>850</td>\n",
              "      <td>Spain</td>\n",
              "      <td>Female</td>\n",
              "      <td>43</td>\n",
              "      <td>2</td>\n",
              "      <td>125510.82</td>\n",
              "      <td>1</td>\n",
              "      <td>1</td>\n",
              "      <td>1</td>\n",
              "      <td>79084.10</td>\n",
              "      <td>0</td>\n",
              "    </tr>\n",
              "  </tbody>\n",
              "</table>\n",
              "</div>"
            ],
            "text/plain": [
              "   RowNumber  CustomerId   Surname  CreditScore Geography  Gender  Age  \\\n",
              "0          1    15634602  Hargrave          619    France  Female   42   \n",
              "1          2    15647311      Hill          608     Spain  Female   41   \n",
              "2          3    15619304      Onio          502    France  Female   42   \n",
              "3          4    15701354      Boni          699    France  Female   39   \n",
              "4          5    15737888  Mitchell          850     Spain  Female   43   \n",
              "\n",
              "   Tenure    Balance  NumOfProducts  HasCrCard  IsActiveMember  \\\n",
              "0       2       0.00              1          1               1   \n",
              "1       1   83807.86              1          0               1   \n",
              "2       8  159660.80              3          1               0   \n",
              "3       1       0.00              2          0               0   \n",
              "4       2  125510.82              1          1               1   \n",
              "\n",
              "   EstimatedSalary  Exited  \n",
              "0        101348.88       1  \n",
              "1        112542.58       0  \n",
              "2        113931.57       1  \n",
              "3         93826.63       0  \n",
              "4         79084.10       0  "
            ]
          },
          "execution_count": 144,
          "metadata": {},
          "output_type": "execute_result"
        }
      ],
      "source": [
        "dataset = pd.read_csv('customer-data.csv')\n",
        "dataset.head()"
      ]
    },
    {
      "cell_type": "markdown",
      "metadata": {},
      "source": [
        "Just by taking a look at the dataset, we can safely assume that the columns: 'RowNumber', 'CustomerId' and 'Surname', will have no impact on our model. So, we can safely remove them."
      ]
    },
    {
      "cell_type": "code",
      "execution_count": 145,
      "metadata": {},
      "outputs": [],
      "source": [
        "dataset.drop(['RowNumber', 'CustomerId', 'Surname'] , axis=1, inplace=True)"
      ]
    },
    {
      "cell_type": "code",
      "execution_count": 147,
      "metadata": {},
      "outputs": [
        {
          "data": {
            "text/html": [
              "<div>\n",
              "<style scoped>\n",
              "    .dataframe tbody tr th:only-of-type {\n",
              "        vertical-align: middle;\n",
              "    }\n",
              "\n",
              "    .dataframe tbody tr th {\n",
              "        vertical-align: top;\n",
              "    }\n",
              "\n",
              "    .dataframe thead th {\n",
              "        text-align: right;\n",
              "    }\n",
              "</style>\n",
              "<table border=\"1\" class=\"dataframe\">\n",
              "  <thead>\n",
              "    <tr style=\"text-align: right;\">\n",
              "      <th></th>\n",
              "      <th>count</th>\n",
              "      <th>mean</th>\n",
              "      <th>std</th>\n",
              "      <th>min</th>\n",
              "      <th>25%</th>\n",
              "      <th>50%</th>\n",
              "      <th>75%</th>\n",
              "      <th>max</th>\n",
              "    </tr>\n",
              "  </thead>\n",
              "  <tbody>\n",
              "    <tr>\n",
              "      <th>CreditScore</th>\n",
              "      <td>10000.0</td>\n",
              "      <td>650.528800</td>\n",
              "      <td>96.653299</td>\n",
              "      <td>350.00</td>\n",
              "      <td>584.00</td>\n",
              "      <td>652.000</td>\n",
              "      <td>718.0000</td>\n",
              "      <td>850.00</td>\n",
              "    </tr>\n",
              "    <tr>\n",
              "      <th>Age</th>\n",
              "      <td>10000.0</td>\n",
              "      <td>38.921800</td>\n",
              "      <td>10.487806</td>\n",
              "      <td>18.00</td>\n",
              "      <td>32.00</td>\n",
              "      <td>37.000</td>\n",
              "      <td>44.0000</td>\n",
              "      <td>92.00</td>\n",
              "    </tr>\n",
              "    <tr>\n",
              "      <th>Tenure</th>\n",
              "      <td>10000.0</td>\n",
              "      <td>5.012800</td>\n",
              "      <td>2.892174</td>\n",
              "      <td>0.00</td>\n",
              "      <td>3.00</td>\n",
              "      <td>5.000</td>\n",
              "      <td>7.0000</td>\n",
              "      <td>10.00</td>\n",
              "    </tr>\n",
              "    <tr>\n",
              "      <th>Balance</th>\n",
              "      <td>10000.0</td>\n",
              "      <td>76485.889288</td>\n",
              "      <td>62397.405202</td>\n",
              "      <td>0.00</td>\n",
              "      <td>0.00</td>\n",
              "      <td>97198.540</td>\n",
              "      <td>127644.2400</td>\n",
              "      <td>250898.09</td>\n",
              "    </tr>\n",
              "    <tr>\n",
              "      <th>NumOfProducts</th>\n",
              "      <td>10000.0</td>\n",
              "      <td>1.530200</td>\n",
              "      <td>0.581654</td>\n",
              "      <td>1.00</td>\n",
              "      <td>1.00</td>\n",
              "      <td>1.000</td>\n",
              "      <td>2.0000</td>\n",
              "      <td>4.00</td>\n",
              "    </tr>\n",
              "    <tr>\n",
              "      <th>HasCrCard</th>\n",
              "      <td>10000.0</td>\n",
              "      <td>0.705500</td>\n",
              "      <td>0.455840</td>\n",
              "      <td>0.00</td>\n",
              "      <td>0.00</td>\n",
              "      <td>1.000</td>\n",
              "      <td>1.0000</td>\n",
              "      <td>1.00</td>\n",
              "    </tr>\n",
              "    <tr>\n",
              "      <th>IsActiveMember</th>\n",
              "      <td>10000.0</td>\n",
              "      <td>0.515100</td>\n",
              "      <td>0.499797</td>\n",
              "      <td>0.00</td>\n",
              "      <td>0.00</td>\n",
              "      <td>1.000</td>\n",
              "      <td>1.0000</td>\n",
              "      <td>1.00</td>\n",
              "    </tr>\n",
              "    <tr>\n",
              "      <th>EstimatedSalary</th>\n",
              "      <td>10000.0</td>\n",
              "      <td>100090.239881</td>\n",
              "      <td>57510.492818</td>\n",
              "      <td>11.58</td>\n",
              "      <td>51002.11</td>\n",
              "      <td>100193.915</td>\n",
              "      <td>149388.2475</td>\n",
              "      <td>199992.48</td>\n",
              "    </tr>\n",
              "    <tr>\n",
              "      <th>Exited</th>\n",
              "      <td>10000.0</td>\n",
              "      <td>0.203700</td>\n",
              "      <td>0.402769</td>\n",
              "      <td>0.00</td>\n",
              "      <td>0.00</td>\n",
              "      <td>0.000</td>\n",
              "      <td>0.0000</td>\n",
              "      <td>1.00</td>\n",
              "    </tr>\n",
              "  </tbody>\n",
              "</table>\n",
              "</div>"
            ],
            "text/plain": [
              "                   count           mean           std     min       25%  \\\n",
              "CreditScore      10000.0     650.528800     96.653299  350.00    584.00   \n",
              "Age              10000.0      38.921800     10.487806   18.00     32.00   \n",
              "Tenure           10000.0       5.012800      2.892174    0.00      3.00   \n",
              "Balance          10000.0   76485.889288  62397.405202    0.00      0.00   \n",
              "NumOfProducts    10000.0       1.530200      0.581654    1.00      1.00   \n",
              "HasCrCard        10000.0       0.705500      0.455840    0.00      0.00   \n",
              "IsActiveMember   10000.0       0.515100      0.499797    0.00      0.00   \n",
              "EstimatedSalary  10000.0  100090.239881  57510.492818   11.58  51002.11   \n",
              "Exited           10000.0       0.203700      0.402769    0.00      0.00   \n",
              "\n",
              "                        50%          75%        max  \n",
              "CreditScore         652.000     718.0000     850.00  \n",
              "Age                  37.000      44.0000      92.00  \n",
              "Tenure                5.000       7.0000      10.00  \n",
              "Balance           97198.540  127644.2400  250898.09  \n",
              "NumOfProducts         1.000       2.0000       4.00  \n",
              "HasCrCard             1.000       1.0000       1.00  \n",
              "IsActiveMember        1.000       1.0000       1.00  \n",
              "EstimatedSalary  100193.915  149388.2475  199992.48  \n",
              "Exited                0.000       0.0000       1.00  "
            ]
          },
          "execution_count": 147,
          "metadata": {},
          "output_type": "execute_result"
        }
      ],
      "source": [
        "dataset.describe().T"
      ]
    },
    {
      "cell_type": "code",
      "execution_count": 148,
      "metadata": {},
      "outputs": [
        {
          "name": "stdout",
          "output_type": "stream",
          "text": [
            "<class 'pandas.core.frame.DataFrame'>\n",
            "RangeIndex: 10000 entries, 0 to 9999\n",
            "Data columns (total 11 columns):\n",
            " #   Column           Non-Null Count  Dtype  \n",
            "---  ------           --------------  -----  \n",
            " 0   CreditScore      10000 non-null  int64  \n",
            " 1   Geography        10000 non-null  object \n",
            " 2   Gender           10000 non-null  object \n",
            " 3   Age              10000 non-null  int64  \n",
            " 4   Tenure           10000 non-null  int64  \n",
            " 5   Balance          10000 non-null  float64\n",
            " 6   NumOfProducts    10000 non-null  int64  \n",
            " 7   HasCrCard        10000 non-null  int64  \n",
            " 8   IsActiveMember   10000 non-null  int64  \n",
            " 9   EstimatedSalary  10000 non-null  float64\n",
            " 10  Exited           10000 non-null  int64  \n",
            "dtypes: float64(2), int64(7), object(2)\n",
            "memory usage: 859.5+ KB\n"
          ]
        }
      ],
      "source": [
        "dataset.info()"
      ]
    },
    {
      "cell_type": "markdown",
      "metadata": {},
      "source": [
        "No missing values. No imputation required."
      ]
    },
    {
      "cell_type": "markdown",
      "metadata": {},
      "source": [
        "## 3 | Data Analysis"
      ]
    },
    {
      "cell_type": "markdown",
      "metadata": {},
      "source": [
        "### 3.1 | Exited people count"
      ]
    },
    {
      "cell_type": "code",
      "execution_count": 149,
      "metadata": {},
      "outputs": [
        {
          "data": {
            "text/plain": [
              "0    7963\n",
              "1    2037\n",
              "Name: Exited, dtype: int64"
            ]
          },
          "execution_count": 149,
          "metadata": {},
          "output_type": "execute_result"
        }
      ],
      "source": [
        "dataset['Exited'].value_counts()"
      ]
    },
    {
      "cell_type": "code",
      "execution_count": 150,
      "metadata": {},
      "outputs": [
        {
          "data": {
            "text/plain": [
              "<Axes: xlabel='Exited', ylabel='count'>"
            ]
          },
          "execution_count": 150,
          "metadata": {},
          "output_type": "execute_result"
        },
        {
          "data": {
            "image/png": "[encoded data removed]",
            "text/plain": [
              "<Figure size 640x480 with 1 Axes>"
            ]
          },
          "metadata": {},
          "output_type": "display_data"
        }
      ],
      "source": [
        "sns.countplot(x = 'Exited', data = dataset)"
      ]
    },
    {
      "cell_type": "markdown",
      "metadata": {},
      "source": [
        "There appears to be a imbalance in the value counts. But we will not consider it as of now beacause the dataset we have is limited."
      ]
    },
    {
      "cell_type": "markdown",
      "metadata": {},
      "source": [
        "### 3.2 | Geography distribution"
      ]
    },
    {
      "cell_type": "code",
      "execution_count": 151,
      "metadata": {},
      "outputs": [
        {
          "data": {
            "text/plain": [
              "France     5014\n",
              "Germany    2509\n",
              "Spain      2477\n",
              "Name: Geography, dtype: int64"
            ]
          },
          "execution_count": 151,
          "metadata": {},
          "output_type": "execute_result"
        }
      ],
      "source": [
        "dataset['Geography'].value_counts()"
      ]
    },
    {
      "cell_type": "code",
      "execution_count": 153,
      "metadata": {},
      "outputs": [
        {
          "data": {
            "text/plain": [
              "<Axes: xlabel='Geography', ylabel='count'>"
            ]
          },
          "execution_count": 153,
          "metadata": {},
          "output_type": "execute_result"
        },
        {
          "data": {
            "image/png": "[encoded data removed]",
            "text/plain": [
              "<Figure size 640x480 with 1 Axes>"
            ]
          },
          "metadata": {},
          "output_type": "display_data"
        }
      ],
      "source": [
        "sns.countplot(x = 'Geography', data = dataset)"
      ]
    },
    {
      "cell_type": "markdown",
      "metadata": {},
      "source": [
        "There appears to be a lot of french people's data."
      ]
    },
    {
      "cell_type": "code",
      "execution_count": 168,
      "metadata": {},
      "outputs": [
        {
          "name": "stdout",
          "output_type": "stream",
          "text": [
            "Germany    0.399607\n",
            "France     0.397644\n",
            "Spain      0.202749\n",
            "Name: Geography, dtype: float64\n"
          ]
        },
        {
          "data": {
            "image/png": "[encoded data removed]",
            "text/plain": [
              "<Figure size 640x480 with 1 Axes>"
            ]
          },
          "metadata": {},
          "output_type": "display_data"
        }
      ],
      "source": [
        "print(dataset.Geography[dataset.Exited == True].value_counts(normalize=True))\n",
        "for i in ['France', 'Spain', 'Germany']:\n",
        "    dataset.Exited[dataset.Geography == i].plot(kind='kde')\n",
        "plt.title(\"Exited vs Geography\")\n",
        "plt.legend(['France', 'Spain', 'Germany'])\n",
        "plt.show()"
      ]
    },
    {
      "cell_type": "markdown",
      "metadata": {},
      "source": [
        "Since the distribution of people exitng seems to be normally distributed, there appears to be no trend."
      ]
    },
    {
      "cell_type": "markdown",
      "metadata": {},
      "source": [
        "### 3.3 | Gender distribution"
      ]
    },
    {
      "cell_type": "code",
      "execution_count": 119,
      "metadata": {},
      "outputs": [
        {
          "data": {
            "text/plain": [
              "Male      5457\n",
              "Female    4543\n",
              "Name: Gender, dtype: int64"
            ]
          },
          "execution_count": 119,
          "metadata": {},
          "output_type": "execute_result"
        }
      ],
      "source": [
        "dataset['Gender'].value_counts()"
      ]
    },
    {
      "cell_type": "code",
      "execution_count": 154,
      "metadata": {},
      "outputs": [
        {
          "data": {
            "text/plain": [
              "<Axes: xlabel='Gender', ylabel='count'>"
            ]
          },
          "execution_count": 154,
          "metadata": {},
          "output_type": "execute_result"
        },
        {
          "data": {
            "image/png": "[encoded data removed]",
            "text/plain": [
              "<Figure size 640x480 with 1 Axes>"
            ]
          },
          "metadata": {},
          "output_type": "display_data"
        }
      ],
      "source": [
        "sns.countplot(x = 'Gender', data = dataset)"
      ]
    },
    {
      "cell_type": "markdown",
      "metadata": {},
      "source": [
        "Gender appears to be randomly distributed."
      ]
    },
    {
      "cell_type": "code",
      "execution_count": 164,
      "metadata": {},
      "outputs": [
        {
          "name": "stdout",
          "output_type": "stream",
          "text": [
            "Female    0.559156\n",
            "Male      0.440844\n",
            "Name: Gender, dtype: float64\n"
          ]
        },
        {
          "data": {
            "text/plain": [
              "Text(0.5, 1.0, 'Female vs Male Exited')"
            ]
          },
          "execution_count": 164,
          "metadata": {},
          "output_type": "execute_result"
        },
        {
          "data": {
            "image/png": "[encoded data removed]",
            "text/plain": [
              "<Figure size 640x480 with 1 Axes>"
            ]
          },
          "metadata": {},
          "output_type": "display_data"
        }
      ],
      "source": [
        "print(dataset.Gender[dataset.Exited == True].value_counts(normalize=True))\n",
        "dataset.Gender[dataset.Exited == True].value_counts(normalize=True).plot(kind='bar')\n",
        "plt.title('Female vs Male Exited')"
      ]
    },
    {
      "cell_type": "markdown",
      "metadata": {},
      "source": [
        "### 3.4 | Age distribution"
      ]
    },
    {
      "cell_type": "code",
      "execution_count": 155,
      "metadata": {},
      "outputs": [
        {
          "data": {
            "image/png": "[encoded data removed]",
            "text/plain": [
              "<Figure size 640x480 with 1 Axes>"
            ]
          },
          "metadata": {},
          "output_type": "display_data"
        }
      ],
      "source": [
        "dataset['Age'].hist(bins=100)\n",
        "plt.title('Distribution of age')\n",
        "plt.show()"
      ]
    },
    {
      "cell_type": "markdown",
      "metadata": {},
      "source": [
        "Age seems to be normaly distributed."
      ]
    },
    {
      "cell_type": "code",
      "execution_count": 162,
      "metadata": {},
      "outputs": [
        {
          "data": {
            "image/png": "[encoded data removed]",
            "text/plain": [
              "<Figure size 640x480 with 1 Axes>"
            ]
          },
          "metadata": {},
          "output_type": "display_data"
        }
      ],
      "source": [
        "plt.scatter(dataset.Exited, dataset.Age, alpha=0.01)\n",
        "plt.title('Stayed[0] or Exited[1] according to age')\n",
        "plt.show()"
      ]
    },
    {
      "cell_type": "markdown",
      "metadata": {},
      "source": [
        "More young people appears to stay, while middle aged people appears to be exiting more."
      ]
    },
    {
      "cell_type": "markdown",
      "metadata": {
        "colab_type": "text",
        "id": "N6bQ0UgSU-NJ"
      },
      "source": [
        "### Encoding categorical data"
      ]
    },
    {
      "cell_type": "code",
      "execution_count": 121,
      "metadata": {},
      "outputs": [],
      "source": [
        "dataset = pd.get_dummies(data = dataset, columns = ['Geography', 'Gender'], drop_first = True)"
      ]
    },
    {
      "cell_type": "code",
      "execution_count": 123,
      "metadata": {},
      "outputs": [],
      "source": [
        "X = dataset.drop(columns=['Exited']).values\n",
        "y = dataset['Exited'].values"
      ]
    },
    {
      "cell_type": "markdown",
      "metadata": {
        "colab_type": "text",
        "id": "le5MJreAbW52"
      },
      "source": [
        "Label Encoding the \"Gender\" column"
      ]
    },
    {
      "cell_type": "code",
      "execution_count": 124,
      "metadata": {
        "colab": {},
        "colab_type": "code",
        "id": "PxVKWXxLbczC"
      },
      "outputs": [],
      "source": [
        "#from sklearn.preprocessing import LabelEncoder\n",
        "#le = LabelEncoder()\n",
        "#X[:, 2] = le.fit_transform(X[:, 2])"
      ]
    },
    {
      "cell_type": "code",
      "execution_count": 125,
      "metadata": {
        "colab": {},
        "colab_type": "code",
        "id": "AMXC8-KMVirw"
      },
      "outputs": [],
      "source": [
        "#from sklearn.compose import ColumnTransformer\n",
        "#from sklearn.preprocessing import OneHotEncoder\n",
        "#X = np.array(ct.fit_transform(X))\n",
        "#ct = ColumnTransformer(transformers=[('encoder', OneHotEncoder(), [1])], remainder='passthrough')"
      ]
    },
    {
      "cell_type": "code",
      "execution_count": 126,
      "metadata": {
        "colab": {
          "base_uri": "https://localhost:8080/",
          "height": 137
        },
        "colab_type": "code",
        "id": "ZcxwEon-b8nV",
        "outputId": "23a98af4-5e33-4b26-c27b-f06e3c5d2baf"
      },
      "outputs": [
        {
          "name": "stdout",
          "output_type": "stream",
          "text": [
            "[[619.  42.   2. ...   0.   0.   0.]\n",
            " [608.  41.   1. ...   0.   1.   0.]\n",
            " [502.  42.   8. ...   0.   0.   0.]\n",
            " ...\n",
            " [709.  36.   7. ...   0.   0.   0.]\n",
            " [772.  42.   3. ...   1.   0.   1.]\n",
            " [792.  28.   4. ...   0.   0.   0.]]\n"
          ]
        }
      ],
      "source": [
        "print(X)"
      ]
    },
    {
      "cell_type": "markdown",
      "metadata": {
        "colab_type": "text",
        "id": "vHol938cW8zd"
      },
      "source": [
        "### Splitting the dataset into the Training set and Test set"
      ]
    },
    {
      "cell_type": "code",
      "execution_count": 127,
      "metadata": {
        "colab": {},
        "colab_type": "code",
        "id": "Z-TDt0Y_XEfc"
      },
      "outputs": [],
      "source": [
        "from sklearn.model_selection import train_test_split\n",
        "X_train, X_test, y_train, y_test = train_test_split(X, y, test_size = 0.2, random_state = 0)"
      ]
    },
    {
      "cell_type": "markdown",
      "metadata": {
        "colab_type": "text",
        "id": "RE_FcHyfV3TQ"
      },
      "source": [
        "### Feature Scaling"
      ]
    },
    {
      "cell_type": "code",
      "execution_count": 128,
      "metadata": {
        "colab": {},
        "colab_type": "code",
        "id": "ViCrE00rV8Sk"
      },
      "outputs": [],
      "source": [
        "from sklearn.preprocessing import StandardScaler\n",
        "sc = StandardScaler()\n",
        "X_train = sc.fit_transform(X_train)\n",
        "X_test = sc.transform(X_test)"
      ]
    },
    {
      "cell_type": "markdown",
      "metadata": {
        "colab_type": "text",
        "id": "-zfEzkRVXIwF"
      },
      "source": [
        "## Part 2 - Building the ANN"
      ]
    },
    {
      "cell_type": "markdown",
      "metadata": {
        "colab_type": "text",
        "id": "KvdeScabXtlB"
      },
      "source": [
        "### Initializing the ANN"
      ]
    },
    {
      "cell_type": "code",
      "execution_count": 129,
      "metadata": {
        "colab": {},
        "colab_type": "code",
        "id": "3dtrScHxXQox"
      },
      "outputs": [],
      "source": [
        "ann = tf.keras.models.Sequential()"
      ]
    },
    {
      "cell_type": "markdown",
      "metadata": {
        "colab_type": "text",
        "id": "rP6urV6SX7kS"
      },
      "source": [
        "### Adding the input layer and the first hidden layer"
      ]
    },
    {
      "cell_type": "code",
      "execution_count": 130,
      "metadata": {
        "colab": {},
        "colab_type": "code",
        "id": "bppGycBXYCQr"
      },
      "outputs": [],
      "source": [
        "ann.add(tf.keras.layers.Dense(units=6, activation='relu'))"
      ]
    },
    {
      "cell_type": "markdown",
      "metadata": {
        "colab_type": "text",
        "id": "BELWAc_8YJze"
      },
      "source": [
        "### Adding the second hidden layer"
      ]
    },
    {
      "cell_type": "code",
      "execution_count": 131,
      "metadata": {
        "colab": {},
        "colab_type": "code",
        "id": "JneR0u0sYRTd"
      },
      "outputs": [],
      "source": [
        "ann.add(tf.keras.layers.Dense(units=6, activation='relu'))"
      ]
    },
    {
      "cell_type": "markdown",
      "metadata": {
        "colab_type": "text",
        "id": "OyNEe6RXYcU4"
      },
      "source": [
        "### Adding the output layer"
      ]
    },
    {
      "cell_type": "code",
      "execution_count": 132,
      "metadata": {
        "colab": {},
        "colab_type": "code",
        "id": "Cn3x41RBYfvY"
      },
      "outputs": [],
      "source": [
        "ann.add(tf.keras.layers.Dense(units=1, activation='sigmoid'))"
      ]
    },
    {
      "cell_type": "markdown",
      "metadata": {
        "colab_type": "text",
        "id": "JT4u2S1_Y4WG"
      },
      "source": [
        "## Part 3 - Training the ANN"
      ]
    },
    {
      "cell_type": "markdown",
      "metadata": {
        "colab_type": "text",
        "id": "8GWlJChhY_ZI"
      },
      "source": [
        "### Compiling the ANN"
      ]
    },
    {
      "cell_type": "code",
      "execution_count": 133,
      "metadata": {
        "colab": {},
        "colab_type": "code",
        "id": "fG3RrwDXZEaS"
      },
      "outputs": [],
      "source": [
        "ann.compile(optimizer = 'adam', loss = 'binary_crossentropy', metrics = ['accuracy'])"
      ]
    },
    {
      "cell_type": "markdown",
      "metadata": {
        "colab_type": "text",
        "id": "0QR_G5u7ZLSM"
      },
      "source": [
        "### Training the ANN on the Training set"
      ]
    },
    {
      "cell_type": "code",
      "execution_count": 134,
      "metadata": {
        "colab": {
          "base_uri": "https://localhost:8080/",
          "height": 1000
        },
        "colab_type": "code",
        "id": "nHZ-LKv_ZRb3",
        "outputId": "718cc4b0-b5aa-40f0-9b20-d3d31730a531"
      },
      "outputs": [
        {
          "name": "stdout",
          "output_type": "stream",
          "text": [
            "Epoch 1/100\n",
            "250/250 [==============================] - 0s 412us/step - loss: 0.6922 - accuracy: 0.5685\n",
            "Epoch 2/100\n",
            "250/250 [==============================] - 0s 593us/step - loss: 0.5123 - accuracy: 0.7894\n",
            "Epoch 3/100\n",
            "250/250 [==============================] - 0s 374us/step - loss: 0.4582 - accuracy: 0.8095\n",
            "Epoch 4/100\n",
            "  1/250 [..............................] - ETA: 0s - loss: 0.3821 - accuracy: 0.9062"
          ]
        },
        {
          "name": "stdout",
          "output_type": "stream",
          "text": [
            "250/250 [==============================] - 0s 364us/step - loss: 0.4350 - accuracy: 0.8145\n",
            "Epoch 5/100\n",
            "250/250 [==============================] - 0s 334us/step - loss: 0.4226 - accuracy: 0.8213\n",
            "Epoch 6/100\n",
            "250/250 [==============================] - 0s 329us/step - loss: 0.4110 - accuracy: 0.8259\n",
            "Epoch 7/100\n",
            "250/250 [==============================] - 0s 326us/step - loss: 0.3948 - accuracy: 0.8359\n",
            "Epoch 8/100\n",
            "250/250 [==============================] - 0s 324us/step - loss: 0.3784 - accuracy: 0.8445\n",
            "Epoch 9/100\n",
            "250/250 [==============================] - 0s 330us/step - loss: 0.3660 - accuracy: 0.8481\n",
            "Epoch 10/100\n",
            "250/250 [==============================] - 0s 418us/step - loss: 0.3577 - accuracy: 0.8503\n",
            "Epoch 11/100\n",
            "250/250 [==============================] - 0s 331us/step - loss: 0.3523 - accuracy: 0.8537\n",
            "Epoch 12/100\n",
            "250/250 [==============================] - 0s 321us/step - loss: 0.3488 - accuracy: 0.8543\n",
            "Epoch 13/100\n",
            "250/250 [==============================] - 0s 322us/step - loss: 0.3466 - accuracy: 0.8543\n",
            "Epoch 14/100\n",
            "250/250 [==============================] - 0s 320us/step - loss: 0.3446 - accuracy: 0.8559\n",
            "Epoch 15/100\n",
            "250/250 [==============================] - 0s 321us/step - loss: 0.3431 - accuracy: 0.8568\n",
            "Epoch 16/100\n",
            "250/250 [==============================] - 0s 350us/step - loss: 0.3423 - accuracy: 0.8579\n",
            "Epoch 17/100\n",
            "250/250 [==============================] - 0s 399us/step - loss: 0.3409 - accuracy: 0.8585\n",
            "Epoch 18/100\n",
            "250/250 [==============================] - 0s 410us/step - loss: 0.3402 - accuracy: 0.8581\n",
            "Epoch 19/100\n",
            "250/250 [==============================] - 0s 602us/step - loss: 0.3393 - accuracy: 0.8597\n",
            "Epoch 20/100\n",
            "250/250 [==============================] - 0s 328us/step - loss: 0.3384 - accuracy: 0.8619\n",
            "Epoch 21/100\n",
            "250/250 [==============================] - 0s 345us/step - loss: 0.3379 - accuracy: 0.8600\n",
            "Epoch 22/100\n",
            "250/250 [==============================] - 0s 327us/step - loss: 0.3372 - accuracy: 0.8612\n",
            "Epoch 23/100\n",
            "250/250 [==============================] - 0s 325us/step - loss: 0.3365 - accuracy: 0.8620\n",
            "Epoch 24/100\n",
            "250/250 [==============================] - 0s 327us/step - loss: 0.3364 - accuracy: 0.8625\n",
            "Epoch 25/100\n",
            "250/250 [==============================] - 0s 329us/step - loss: 0.3360 - accuracy: 0.8611\n",
            "Epoch 26/100\n",
            "250/250 [==============================] - 0s 332us/step - loss: 0.3352 - accuracy: 0.8618\n",
            "Epoch 27/100\n",
            "250/250 [==============================] - 0s 345us/step - loss: 0.3353 - accuracy: 0.8616\n",
            "Epoch 28/100\n",
            "250/250 [==============================] - 0s 349us/step - loss: 0.3348 - accuracy: 0.8621\n",
            "Epoch 29/100\n",
            "250/250 [==============================] - 0s 356us/step - loss: 0.3345 - accuracy: 0.8606\n",
            "Epoch 30/100\n",
            "250/250 [==============================] - 0s 343us/step - loss: 0.3338 - accuracy: 0.8620\n",
            "Epoch 31/100\n",
            "250/250 [==============================] - 0s 341us/step - loss: 0.3340 - accuracy: 0.8620\n",
            "Epoch 32/100\n",
            "250/250 [==============================] - 0s 342us/step - loss: 0.3335 - accuracy: 0.8625\n",
            "Epoch 33/100\n",
            "250/250 [==============================] - 0s 330us/step - loss: 0.3330 - accuracy: 0.8625\n",
            "Epoch 34/100\n",
            "250/250 [==============================] - 0s 322us/step - loss: 0.3329 - accuracy: 0.8631\n",
            "Epoch 35/100\n",
            "250/250 [==============================] - 0s 331us/step - loss: 0.3333 - accuracy: 0.8612\n",
            "Epoch 36/100\n",
            "250/250 [==============================] - 0s 323us/step - loss: 0.3325 - accuracy: 0.8625\n",
            "Epoch 37/100\n",
            "250/250 [==============================] - 0s 333us/step - loss: 0.3325 - accuracy: 0.8635\n",
            "Epoch 38/100\n",
            "250/250 [==============================] - 0s 322us/step - loss: 0.3321 - accuracy: 0.8624\n",
            "Epoch 39/100\n",
            "250/250 [==============================] - 0s 323us/step - loss: 0.3318 - accuracy: 0.8633\n",
            "Epoch 40/100\n",
            "250/250 [==============================] - 0s 328us/step - loss: 0.3318 - accuracy: 0.8646\n",
            "Epoch 41/100\n",
            "250/250 [==============================] - 0s 341us/step - loss: 0.3319 - accuracy: 0.8624\n",
            "Epoch 42/100\n",
            "250/250 [==============================] - 0s 351us/step - loss: 0.3321 - accuracy: 0.8622\n",
            "Epoch 43/100\n",
            "250/250 [==============================] - 0s 359us/step - loss: 0.3317 - accuracy: 0.8627\n",
            "Epoch 44/100\n",
            "250/250 [==============================] - 0s 360us/step - loss: 0.3316 - accuracy: 0.8620\n",
            "Epoch 45/100\n",
            "250/250 [==============================] - 0s 344us/step - loss: 0.3313 - accuracy: 0.8630\n",
            "Epoch 46/100\n",
            "250/250 [==============================] - 0s 346us/step - loss: 0.3311 - accuracy: 0.8631\n",
            "Epoch 47/100\n",
            "250/250 [==============================] - 0s 349us/step - loss: 0.3312 - accuracy: 0.8635\n",
            "Epoch 48/100\n",
            "250/250 [==============================] - 0s 343us/step - loss: 0.3312 - accuracy: 0.8618\n",
            "Epoch 49/100\n",
            "250/250 [==============================] - 0s 344us/step - loss: 0.3309 - accuracy: 0.8639\n",
            "Epoch 50/100\n",
            "250/250 [==============================] - 0s 342us/step - loss: 0.3309 - accuracy: 0.8627\n",
            "Epoch 51/100\n",
            "250/250 [==============================] - 0s 345us/step - loss: 0.3307 - accuracy: 0.8621\n",
            "Epoch 52/100\n",
            "250/250 [==============================] - 0s 343us/step - loss: 0.3305 - accuracy: 0.8622\n",
            "Epoch 53/100\n",
            "250/250 [==============================] - 0s 339us/step - loss: 0.3306 - accuracy: 0.8629\n",
            "Epoch 54/100\n",
            "250/250 [==============================] - 0s 348us/step - loss: 0.3305 - accuracy: 0.8639\n",
            "Epoch 55/100\n",
            "250/250 [==============================] - 0s 356us/step - loss: 0.3304 - accuracy: 0.8634\n",
            "Epoch 56/100\n",
            "250/250 [==============================] - 0s 344us/step - loss: 0.3301 - accuracy: 0.8631\n",
            "Epoch 57/100\n",
            "250/250 [==============================] - 0s 340us/step - loss: 0.3296 - accuracy: 0.8636\n",
            "Epoch 58/100\n",
            "250/250 [==============================] - 0s 552us/step - loss: 0.3305 - accuracy: 0.8630\n",
            "Epoch 59/100\n",
            "250/250 [==============================] - 0s 342us/step - loss: 0.3302 - accuracy: 0.8635\n",
            "Epoch 60/100\n",
            "250/250 [==============================] - 0s 414us/step - loss: 0.3304 - accuracy: 0.8636\n",
            "Epoch 61/100\n",
            "250/250 [==============================] - 0s 352us/step - loss: 0.3304 - accuracy: 0.8654\n",
            "Epoch 62/100\n",
            "250/250 [==============================] - 0s 349us/step - loss: 0.3300 - accuracy: 0.8640\n",
            "Epoch 63/100\n",
            "250/250 [==============================] - 0s 354us/step - loss: 0.3298 - accuracy: 0.8658\n",
            "Epoch 64/100\n",
            "250/250 [==============================] - 0s 347us/step - loss: 0.3297 - accuracy: 0.8630\n",
            "Epoch 65/100\n",
            "250/250 [==============================] - 0s 346us/step - loss: 0.3296 - accuracy: 0.8636\n",
            "Epoch 66/100\n",
            "250/250 [==============================] - 0s 340us/step - loss: 0.3296 - accuracy: 0.8645\n",
            "Epoch 67/100\n",
            "250/250 [==============================] - 0s 349us/step - loss: 0.3299 - accuracy: 0.8622\n",
            "Epoch 68/100\n",
            "250/250 [==============================] - 0s 348us/step - loss: 0.3296 - accuracy: 0.8640\n",
            "Epoch 69/100\n",
            "250/250 [==============================] - 0s 351us/step - loss: 0.3295 - accuracy: 0.8640\n",
            "Epoch 70/100\n",
            "250/250 [==============================] - 0s 356us/step - loss: 0.3294 - accuracy: 0.8634\n",
            "Epoch 71/100\n",
            "250/250 [==============================] - 0s 345us/step - loss: 0.3291 - accuracy: 0.8652\n",
            "Epoch 72/100\n",
            "250/250 [==============================] - 0s 345us/step - loss: 0.3297 - accuracy: 0.8654\n",
            "Epoch 73/100\n",
            "250/250 [==============================] - 0s 356us/step - loss: 0.3292 - accuracy: 0.8644\n",
            "Epoch 74/100\n",
            "250/250 [==============================] - 0s 348us/step - loss: 0.3294 - accuracy: 0.8635\n",
            "Epoch 75/100\n",
            "250/250 [==============================] - 0s 366us/step - loss: 0.3295 - accuracy: 0.8652\n",
            "Epoch 76/100\n",
            "250/250 [==============================] - 0s 355us/step - loss: 0.3292 - accuracy: 0.8641\n",
            "Epoch 77/100\n",
            "250/250 [==============================] - 0s 426us/step - loss: 0.3292 - accuracy: 0.8641\n",
            "Epoch 78/100\n",
            "250/250 [==============================] - 0s 354us/step - loss: 0.3290 - accuracy: 0.8641\n",
            "Epoch 79/100\n",
            "250/250 [==============================] - 0s 568us/step - loss: 0.3290 - accuracy: 0.8665\n",
            "Epoch 80/100\n",
            "250/250 [==============================] - 0s 342us/step - loss: 0.3290 - accuracy: 0.8639\n",
            "Epoch 81/100\n",
            "250/250 [==============================] - 0s 351us/step - loss: 0.3291 - accuracy: 0.8634\n",
            "Epoch 82/100\n",
            "250/250 [==============================] - 0s 350us/step - loss: 0.3293 - accuracy: 0.8644\n",
            "Epoch 83/100\n",
            "250/250 [==============================] - 0s 360us/step - loss: 0.3291 - accuracy: 0.8645\n",
            "Epoch 84/100\n",
            "250/250 [==============================] - 0s 357us/step - loss: 0.3291 - accuracy: 0.8655\n",
            "Epoch 85/100\n",
            "250/250 [==============================] - 0s 358us/step - loss: 0.3288 - accuracy: 0.8646\n",
            "Epoch 86/100\n",
            "250/250 [==============================] - 0s 348us/step - loss: 0.3289 - accuracy: 0.8648\n",
            "Epoch 87/100\n",
            "250/250 [==============================] - 0s 351us/step - loss: 0.3286 - accuracy: 0.8630\n",
            "Epoch 88/100\n",
            "250/250 [==============================] - 0s 357us/step - loss: 0.3293 - accuracy: 0.8629\n",
            "Epoch 89/100\n",
            "250/250 [==============================] - 0s 351us/step - loss: 0.3287 - accuracy: 0.8643\n",
            "Epoch 90/100\n",
            "250/250 [==============================] - 0s 415us/step - loss: 0.3289 - accuracy: 0.8651\n",
            "Epoch 91/100\n",
            "250/250 [==============================] - 0s 360us/step - loss: 0.3286 - accuracy: 0.8645\n",
            "Epoch 92/100\n",
            "250/250 [==============================] - 0s 351us/step - loss: 0.3290 - accuracy: 0.8645\n",
            "Epoch 93/100\n",
            "250/250 [==============================] - 0s 348us/step - loss: 0.3288 - accuracy: 0.8641\n",
            "Epoch 94/100\n",
            "250/250 [==============================] - 0s 356us/step - loss: 0.3290 - accuracy: 0.8651\n",
            "Epoch 95/100\n",
            "250/250 [==============================] - 0s 344us/step - loss: 0.3285 - accuracy: 0.8631\n",
            "Epoch 96/100\n",
            "250/250 [==============================] - 0s 343us/step - loss: 0.3287 - accuracy: 0.8637\n",
            "Epoch 97/100\n",
            "250/250 [==============================] - 0s 345us/step - loss: 0.3284 - accuracy: 0.8635\n",
            "Epoch 98/100\n",
            "250/250 [==============================] - 0s 357us/step - loss: 0.3285 - accuracy: 0.8639\n",
            "Epoch 99/100\n",
            "250/250 [==============================] - 0s 352us/step - loss: 0.3285 - accuracy: 0.8641\n",
            "Epoch 100/100\n",
            "250/250 [==============================] - 0s 357us/step - loss: 0.3283 - accuracy: 0.8635\n"
          ]
        },
        {
          "data": {
            "text/plain": [
              "<keras.src.callbacks.History at 0x168c0eb50>"
            ]
          },
          "execution_count": 134,
          "metadata": {},
          "output_type": "execute_result"
        }
      ],
      "source": [
        "ann.fit(X_train, y_train, batch_size = 32, epochs = 100)"
      ]
    },
    {
      "cell_type": "markdown",
      "metadata": {
        "colab_type": "text",
        "id": "tJj5k2MxZga3"
      },
      "source": [
        "## Part 4 - Making the predictions and evaluating the model"
      ]
    },
    {
      "cell_type": "markdown",
      "metadata": {
        "colab_type": "text",
        "id": "u7yx47jPZt11"
      },
      "source": [
        "### Predicting the Test set results"
      ]
    },
    {
      "cell_type": "code",
      "execution_count": 135,
      "metadata": {
        "colab": {
          "base_uri": "https://localhost:8080/",
          "height": 137
        },
        "colab_type": "code",
        "id": "nIyEeQdRZwgs",
        "outputId": "82330ba8-9bdc-4fd1-d3cf-b6d78ee7c2a3"
      },
      "outputs": [
        {
          "name": "stdout",
          "output_type": "stream",
          "text": [
            "63/63 [==============================] - 0s 799us/step\n",
            "[[0 0]\n",
            " [0 1]\n",
            " [0 0]\n",
            " ...\n",
            " [0 0]\n",
            " [0 0]\n",
            " [0 0]]\n"
          ]
        }
      ],
      "source": [
        "y_pred = ann.predict(X_test)\n",
        "y_pred = (y_pred > 0.5)\n",
        "print(np.concatenate((y_pred.reshape(len(y_pred),1), y_test.reshape(len(y_test),1)),1))"
      ]
    },
    {
      "cell_type": "markdown",
      "metadata": {
        "colab_type": "text",
        "id": "o0oyfLWoaEGw"
      },
      "source": [
        "### Making the Confusion Matrix"
      ]
    },
    {
      "cell_type": "code",
      "execution_count": 136,
      "metadata": {
        "colab": {
          "base_uri": "https://localhost:8080/",
          "height": 68
        },
        "colab_type": "code",
        "id": "ci6K_r6LaF6P",
        "outputId": "4d854e9e-22d5-432f-f6e5-a102fe3ae0bd"
      },
      "outputs": [
        {
          "name": "stdout",
          "output_type": "stream",
          "text": [
            "[[1512   83]\n",
            " [ 200  205]]\n"
          ]
        },
        {
          "data": {
            "text/plain": [
              "0.8585"
            ]
          },
          "execution_count": 136,
          "metadata": {},
          "output_type": "execute_result"
        }
      ],
      "source": [
        "from sklearn.metrics import confusion_matrix, accuracy_score\n",
        "cm = confusion_matrix(y_test, y_pred)\n",
        "print(cm)\n",
        "accuracy_score(y_test, y_pred)"
      ]
    }
  ],
  "metadata": {
    "colab": {
      "collapsed_sections": [],
      "name": "artificial_neural_network.ipynb",
      "provenance": [],
      "toc_visible": true
    },
    "kernelspec": {
      "display_name": "Python 3",
      "name": "python3"
    },
    "language_info": {
      "codemirror_mode": {
        "name": "ipython",
        "version": 3
      },
      "file_extension": ".py",
      "mimetype": "text/x-python",
      "name": "python",
      "nbconvert_exporter": "python",
      "pygments_lexer": "ipython3",
      "version": "3.11.3"
    }
  },
  "nbformat": 4,
  "nbformat_minor": 0
}
